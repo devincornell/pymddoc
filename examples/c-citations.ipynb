{
 "cells": [
  {
   "cell_type": "markdown",
   "metadata": {},
   "source": [
    "# Citations and Bibliography\n",
    "\n",
    "Part of the motivation for using `Pandoc` for this package was that it supports citations and bibliographies through citeproc. Given a markdown document with citations in it and a `.bib` file, `Pandoc` can generate a formatted document with citations and a bibliography.\n",
    "\n",
    "This package maintains some easy-to-use functions for working with citations and bibliographies in markdown documents."
   ]
  },
  {
   "cell_type": "code",
   "execution_count": 1,
   "metadata": {},
   "outputs": [
    {
     "name": "stderr",
     "output_type": "stream",
     "text": [
      "/tmp/ipykernel_1016843/3729719973.py:3: DeprecationWarning: Importing display from IPython.core.display is deprecated since IPython 7.14, please import from IPython display\n",
      "  from IPython.core.display import display, HTML\n"
     ]
    }
   ],
   "source": [
    "# for demonstration\n",
    "import tempfile\n",
    "from IPython.core.display import display, HTML\n",
    "\n",
    "import sys\n",
    "sys.path.append('..')\n",
    "import pymddoc"
   ]
  },
  {
   "cell_type": "markdown",
   "metadata": {},
   "source": [
    "### Citation Auto-complete\n",
    "\n",
    "Check out the [pandoc citer](https://marketplace.visualstudio.com/items?itemName=notZaki.pandocciter) VSCode plugin for citation auto-complete as you edit your documents.\n",
    "\n",
    "In the document YAML header, you will need to provide the bibliography attribute."
   ]
  },
  {
   "cell_type": "code",
   "execution_count": 2,
   "metadata": {},
   "outputs": [],
   "source": [
    "markdown_text = '''\n",
    "---\n",
    "title: \"Hello World\"\n",
    "bibliography: [\"data/references.bib\"]\n",
    "---\n",
    "Use citations like this [@Angelou1969] or this [-@Cohen1963]. These will auto-complete if you use the VSCode plugin.\n",
    "'''.strip()"
   ]
  },
  {
   "cell_type": "markdown",
   "metadata": {},
   "source": [
    "## Compiling Documents with Citations\n",
    "Most importantly for our purposes, we should be able to compile a document that includes citations automatically from a database. We can do this by specifying the `citeproc_bibliography` argument in `PandocArgs`. This argument should be a path to a `.bib` file.\n",
    "\n",
    "In this example I write the bibtex data to a temporary file which is then used to compile the document."
   ]
  },
  {
   "cell_type": "code",
   "execution_count": 3,
   "metadata": {},
   "outputs": [
    {
     "data": {
      "text/html": [
       "<p>Use citations like this <span class=\"citation\"\n",
       "data-cites=\"Angelou1969\">(Angelou 1969)</span> or this <span\n",
       "class=\"citation\" data-cites=\"Cohen1963\">(1963)</span>.</p>\n",
       "<div id=\"refs\" class=\"references csl-bib-body hanging-indent\"\n",
       "role=\"doc-bibliography\">\n",
       "<div id=\"ref-Angelou1969\" class=\"csl-entry\" role=\"doc-biblioentry\">\n",
       "Angelou, Maya. 1969. <em>I Know Why the Caged Bird Sings</em>. 1st ed.\n",
       "Random House.\n",
       "</div>\n",
       "<div id=\"ref-Cohen1963\" class=\"csl-entry\" role=\"doc-biblioentry\">\n",
       "Cohen, P. J. 1963. <span>“The Independence of the Continuum\n",
       "Hypothesis.”</span> <em>Proceedings of the National Academy of\n",
       "Sciences</em> 50 (6): 1143–48.\n",
       "</div>\n",
       "</div>\n"
      ],
      "text/plain": [
       "<IPython.core.display.HTML object>"
      ]
     },
     "metadata": {},
     "output_type": "display_data"
    }
   ],
   "source": [
    "bib_file_text = '''\n",
    "@book{Angelou1969,\n",
    "    place={New York},\n",
    "    edition={1},\n",
    "    title={I Know Why the Caged Bird Sings},\n",
    "    ISBN={9780375507892},\n",
    "    publisher={Random House},\n",
    "    author={Angelou, Maya},\n",
    "    year={1969},\n",
    "    month={Jan.}\n",
    "}\n",
    "@article{Cohen1963,\n",
    "    author = \"P. J. Cohen\",\n",
    "    title = \"The independence of the continuum hypothesis\",\n",
    "    journal = \"Proceedings of the National Academy of Sciences\",\n",
    "    year = 1963,\n",
    "    volume = \"50\",\n",
    "    number = \"6\",\n",
    "    pages = \"1143--1148\",\n",
    "}\n",
    "'''\n",
    "\n",
    "md_file_text = '''\n",
    "Use citations like this [@Angelou1969] or this [-@Cohen1963].\n",
    "'''.strip()\n",
    "\n",
    "with tempfile.TemporaryDirectory() as tmpdir:\n",
    "    bib_fname = tmpdir + '/refs.bib'\n",
    "    with open(bib_fname, 'w') as f:\n",
    "        f.write(bib_file_text)\n",
    "    \n",
    "\n",
    "    doc = pymddoc.MarkdownDoc.from_str(md_file_text)\n",
    "    html = doc.render_html(\n",
    "        pandoc_args=pymddoc.PandocArgs(\n",
    "            citeproc_bibliography=bib_fname,\n",
    "        )\n",
    "    )\n",
    "display(HTML(html))"
   ]
  },
  {
   "cell_type": "markdown",
   "metadata": {},
   "source": [
    "You can change the bibtex file if you have any issues with the citation information."
   ]
  }
 ],
 "metadata": {
  "kernelspec": {
   "display_name": "base",
   "language": "python",
   "name": "python3"
  },
  "language_info": {
   "codemirror_mode": {
    "name": "ipython",
    "version": 3
   },
   "file_extension": ".py",
   "mimetype": "text/x-python",
   "name": "python",
   "nbconvert_exporter": "python",
   "pygments_lexer": "ipython3",
   "version": "3.11.5"
  }
 },
 "nbformat": 4,
 "nbformat_minor": 2
}

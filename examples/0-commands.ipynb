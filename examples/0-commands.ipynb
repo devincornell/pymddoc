{
 "cells": [
  {
   "cell_type": "markdown",
   "metadata": {},
   "source": [
    "# Command-line Interface\n",
    "\n",
    "The command-line interface is sufficient for cases where you do not need to include custom functions in your code. Docs for the ipynb conversion commands can be seen in the section on that topic, and here I will cover `render` and `metadata` commands.\n",
    "\n",
    "Like most command line interfaces, you can use the `--help` flag to get a list of available commands.\n",
    "\n",
    "``` bash\n",
    "python -m pymddoc --help\n",
    "```\n",
    "\n",
    "output:\n",
    "``` plaintext\n",
    "Usage: python -m pymddoc [OPTIONS] COMMAND [ARGS]...\n",
    "\n",
    "Options:\n",
    "--help  Show this message and exit.\n",
    "\n",
    "Commands:\n",
    "metadata        Extract metadata from a markdown file as json.\n",
    "render          Render and compile a markdown file.\n",
    "ipynb2md        Convert a Jupyter notebook (json file) to a markdown file.\n",
    "ipynb2md-multi  Convert multiple Jupyter notebooks (json files) to markdown files.\n",
    "```\n",
    "\n",
    "\n",
    "## Extract YAML header metadata from markdown files: `metadata`\n",
    "\n",
    "This command will output formatted JSON that includes the yaml header information from the markdown file. This is useful for debugging and taking a quick look at markdown files.\n",
    "\n",
    "``` bash\n",
    "python -m pymddoc metadata --help\n",
    "```\n",
    "\n",
    "## Render markdown files: `render`\n",
    "\n",
    "This command will render the markdown file using jinja and compile the rendered file to the desired format (html, pdf, or docx). This allows you to use all of the built-in functions and features of `pymddoc` without writing any code.\n",
    "\n",
    "``` bash\n",
    "python -m pymddoc render --help\n",
    "```\n",
    "\n",
    "output:\n",
    "``` plaintext\n",
    "Usage: python -m pymddoc render [OPTIONS] MD_FILE OUT_FILE\n",
    "\n",
    "  Render and compile a markdown file.\n",
    "\n",
    "Options:\n",
    "  --out_format [html|pdf|docx]\n",
    "  --strict_render BOOLEAN\n",
    "  --help                        Show this message and exit.\n",
    "```"
   ]
  }
 ],
 "metadata": {
  "language_info": {
   "name": "python"
  }
 },
 "nbformat": 4,
 "nbformat_minor": 2
}

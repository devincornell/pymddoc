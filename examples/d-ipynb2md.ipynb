{
 "cells": [
  {
   "cell_type": "markdown",
   "metadata": {},
   "source": [
    "# Jupyter notebooks to Markdown\n",
    "\n",
    "Another feature of this package is the ability to convert Jupyter notebooks to markdown files. There are both command-line and Python API interfaces for this functionality.\n",
    "\n",
    "\n",
    "\n",
    "## Command-line interface\n",
    "To convert a single Jupyter notebook to a markdown file, use the `ipynb2md` command.\n",
    "\n",
    "``` bash\n",
    "python -m pymddoc ipynb2md --help\n",
    "```\n",
    "\n",
    "output:\n",
    "``` plaintext\n",
    "\n",
    "Usage: python -m pymddoc ipynb2md [OPTIONS] IPYNB_FILE MD_FILE\n",
    "\n",
    "  Convert a Jupyter notebook (json file) to a markdown file. Description:\n",
    "  reads a jupyter notebook as a regular json file, passes the json to the\n",
    "  template,     and renders the template with the json information.\n",
    "\n",
    "Options:\n",
    "  --template PATH\n",
    "  --help           Show this message and exit.\n",
    "\n",
    "```\n",
    "\n",
    "### Multiple notebooks\n",
    "\n",
    "To convert multiple Jupyter notebooks to markdown files, use the `ipynb2md-multi` command.\n",
    "\n",
    "``` bash\n",
    "python -m pymddoc ipynb2md-multi --help\n",
    "```\n",
    "\n",
    "output:\n",
    "``` plaintext\n",
    "Usage: python -m pymddoc ipynb2md-multi [OPTIONS] [IPYNB_FILES]...\n",
    "\n",
    "  Convert multiple Jupyter notebooks (json files) to markdown files.\n",
    "\n",
    "Options:\n",
    "  --template PATH\n",
    "  --help           Show this message and exit.\n",
    "```\n",
    "\n",
    "## Python API\n",
    "\n",
    "You may also access this functionality within Python."
   ]
  },
  {
   "cell_type": "code",
   "execution_count": 1,
   "metadata": {},
   "outputs": [],
   "source": [
    "import os\n",
    "import sys\n",
    "sys.path.append('../src/')\n",
    "import pymddoc"
   ]
  },
  {
   "cell_type": "markdown",
   "metadata": {},
   "source": [
    "## The `convert_ipynb2md` function\n",
    "You can convert a single Jupyter notebook to a markdown file by running the `convert_ipynb2md` function. This function takes advantage of the fact that jupyter notbebooks are stored as json files, and is essentially passes the json to the template, and renders the template with the json information."
   ]
  },
  {
   "cell_type": "code",
   "execution_count": 6,
   "metadata": {},
   "outputs": [
    {
     "name": "stdout",
     "output_type": "stream",
     "text": [
      "\n",
      "# Hello world!\n",
      "\n",
      "\n",
      "---\n",
      "\n",
      "``` python linenums=\"1\"\n",
      "import os\n",
      "os\n",
      "```\n",
      "---\n",
      "\n",
      "---\n",
      "\n",
      "``` python linenums=\"1\"\n",
      "\n",
      "```\n",
      "---\n",
      " \n"
     ]
    }
   ],
   "source": [
    "use_template = pymddoc.ipynb2md_default_template\n",
    "\n",
    "import json\n",
    "with open('../tests/example.ipynb', 'r') as f:\n",
    "    ipynb_json = json.load(f)\n",
    "\n",
    "markdown = pymddoc.convert_ipynb2md(use_template, ipynb_json).split('\\n\\n\\n')\n",
    "print(\"\\n\".join(markdown))"
   ]
  },
  {
   "cell_type": "markdown",
   "metadata": {},
   "source": [
    "## More on Templates\n",
    "\n",
    "As most of the heavy-lifting in this method is done by the jinja template, you can customize the output by modifying the template. The default template can be accessed via the `ipynb2md_default_template` variable or from `templates['ipynb2md_default']`. You can use this as a starting point for writing your own template."
   ]
  },
  {
   "cell_type": "code",
   "execution_count": 10,
   "metadata": {},
   "outputs": [
    {
     "name": "stdout",
     "output_type": "stream",
     "text": [
      "\n",
      "{% for cell in cells %}\n",
      "{% if cell.cell_type == 'markdown' %}\n",
      "{{ cell.source|join(\"\") }}\n",
      "{% elif cell.cell_type == 'code' %}\n",
      "\n",
      "---\n",
      "\n",
      "``` python linenums=\"1\"\n",
      "{{ cell.source|join(\"\") }}\n",
      "```\n",
      "{% for output in cell.outputs%}\n",
      "{%if output.output_type == 'stream'%}\n",
      "{%if output.name == 'stdout'%}\n",
      "stdout:\n",
      "{% elif output.name == 'stderr'%}\n",
      "stderr:\n",
      "{%endif%} {# end if name #}\n",
      "\n",
      "{{ indent(output.text|join(\"\")) }}\n",
      "\n",
      "{%elif output.output_type == 'data' or output.output_type == 'display_data' or output.output_type == 'execute_result' %}\n",
      "\n",
      "{%if 'text/plain' in output.data%}\n",
      "text:\n",
      "\n",
      "{{ indent(output.data['text/plain']|join(\"\")) }}\n",
      "{%endif%} {# end test/plain #}\n",
      "\n",
      "\n",
      "{%if 'text/html' in output.data%}\n",
      "html:\n",
      "\n",
      "{{ indent(output.data['text/html']|join(\"\")) }}\n",
      "{%endif%} {# end if text/html #}\n",
      "\n",
      "\n",
      "{%endif%} {# end if output_type #}\n",
      "\n",
      "{%endfor%}\n",
      "\n",
      "---\n",
      "\n",
      "{% endif %}\n",
      "{% endfor %} {# end for cells #}\n",
      "\n"
     ]
    }
   ],
   "source": [
    "pymddoc.templates['ipynb2md_default']\n",
    "print(pymddoc.ipynb2md_default_template)"
   ]
  }
 ],
 "metadata": {
  "kernelspec": {
   "display_name": "base",
   "language": "python",
   "name": "python3"
  },
  "language_info": {
   "codemirror_mode": {
    "name": "ipython",
    "version": 3
   },
   "file_extension": ".py",
   "mimetype": "text/x-python",
   "name": "python",
   "nbconvert_exporter": "python",
   "pygments_lexer": "ipython3",
   "version": "3.11.5"
  }
 },
 "nbformat": 4,
 "nbformat_minor": 2
}

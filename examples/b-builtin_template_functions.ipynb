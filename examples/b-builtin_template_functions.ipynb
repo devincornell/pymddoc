{
 "cells": [
  {
   "cell_type": "markdown",
   "metadata": {},
   "source": [
    "# Built-in Template Functions\n",
    "\n",
    "In addition to externally defined Jinja variables, this package maintains a number of built-in functions that you can use in your Markdown documents."
   ]
  },
  {
   "cell_type": "code",
   "execution_count": 1,
   "metadata": {},
   "outputs": [],
   "source": [
    "import sys\n",
    "sys.path.append('..')\n",
    "import pymddoc\n",
    "\n",
    "import tempfile"
   ]
  },
  {
   "cell_type": "markdown",
   "metadata": {},
   "source": [
    "## Insert Tables into Documents\n",
    "\n",
    "There are two methods for inserting tables into your documents: `csv_to_markdown` and `excel_to_markdown`. Both methods read a file from disk and insert it into the document as markdown."
   ]
  },
  {
   "cell_type": "code",
   "execution_count": 2,
   "metadata": {},
   "outputs": [
    {
     "name": "stdout",
     "output_type": "stream",
     "text": [
      "Read an excel file from disk and insert it into the document as markdown.\n",
      "    Args:\n",
      "        fname: str: The file name to read.\n",
      "        num_rows: int | None: The number of rows to read.\n",
      "        read_kwargs: dict[str,typing.Any] | None: The keyword arguments to pass to the read\n",
      "            function.\n",
      "        to_markdown_kwargs: dict[str,typing.Any] | None: The keyword arguments to pass to the\n",
      "    \n"
     ]
    }
   ],
   "source": [
    "print(pymddoc.excel_to_markdown.__doc__)"
   ]
  },
  {
   "cell_type": "code",
   "execution_count": 3,
   "metadata": {},
   "outputs": [
    {
     "name": "stdout",
     "output_type": "stream",
     "text": [
      "Read a csv file from disk and insert it into the document as markdown.\n",
      "    Args:\n",
      "        fname: str: The file name to read.\n",
      "        num_rows: int | None: The number of rows to read.\n",
      "        read_kwargs: dict[str,typing.Any] | None: The keyword arguments to pass to the read\n",
      "            function.\n",
      "        to_markdown_kwargs: dict[str,typing.Any] | None: The keyword arguments to pass to the\n",
      "    \n"
     ]
    }
   ],
   "source": [
    "print(pymddoc.csv_to_markdown.__doc__)"
   ]
  },
  {
   "cell_type": "markdown",
   "metadata": {},
   "source": [
    "Call them from within the markdown document."
   ]
  },
  {
   "cell_type": "code",
   "execution_count": 4,
   "metadata": {},
   "outputs": [
    {
     "name": "stdout",
     "output_type": "stream",
     "text": [
      "<table>\n",
      "<thead>\n",
      "<tr class=\"header\">\n",
      "<th style=\"text-align: left;\">name</th>\n",
      "<th style=\"text-align: right;\">number</th>\n",
      "</tr>\n",
      "</thead>\n",
      "<tbody>\n",
      "<tr class=\"odd\">\n",
      "<td style=\"text-align: left;\">one</td>\n",
      "<td style=\"text-align: right;\">1</td>\n",
      "</tr>\n",
      "<tr class=\"even\">\n",
      "<td style=\"text-align: left;\">two</td>\n",
      "<td style=\"text-align: right;\">2</td>\n",
      "</tr>\n",
      "</tbody>\n",
      "</table>\n",
      "\n"
     ]
    }
   ],
   "source": [
    "example_markdown = '''\n",
    "{{csv_to_markdown('../tests/test_data/testtable.csv', num_rows=2)}}\n",
    "'''.strip()\n",
    "\n",
    "doc = pymddoc.MarkdownDoc.from_str(example_markdown)\n",
    "print(doc.render_html())"
   ]
  },
  {
   "cell_type": "markdown",
   "metadata": {},
   "source": [
    "## Embed Vector Graphics\n",
    "While it is possible to embed vector graphic types such as SVG and PDF into documents using additional software, the following built-in methods will convert these file types to PNG and embed them directly into the document when it is rendered. This is ideal for cases where you want to embed outputs from analyses for publication, and it is all controlled within the markdown document - even the DPI of the output image."
   ]
  },
  {
   "cell_type": "code",
   "execution_count": 5,
   "metadata": {},
   "outputs": [
    {
     "name": "stdout",
     "output_type": "stream",
     "text": [
      "Convert an svg file to a png file stored in /tmp for pandoc compilation.\n",
      "    Args:\n",
      "        url: str: The url of the svg file to convert.\n",
      "        dpi: int: The dpi of the output image.\n",
      "        kwargs: dict: Additional keyword arguments to pass to cairosvg.svg2png().\n",
      "    \n"
     ]
    }
   ],
   "source": [
    "print(pymddoc.svg_to_png.__doc__)"
   ]
  },
  {
   "cell_type": "code",
   "execution_count": 6,
   "metadata": {},
   "outputs": [
    {
     "name": "stdout",
     "output_type": "stream",
     "text": [
      "Convert a pdf file to a png file stored in /tmp for pandoc compilation.\n",
      "    Args:\n",
      "        filename: str: The filename of the pdf file to convert.\n",
      "        pageno: int: The page number of the svg file to convert.\n",
      "        dpi: int: The dpi of the output image.\n",
      "        kwargs: dict: Additional keyword arguments to pass to page.get_pixmap().\n",
      "    \n"
     ]
    }
   ],
   "source": [
    "print(pymddoc.pdf_to_png.__doc__)"
   ]
  },
  {
   "cell_type": "markdown",
   "metadata": {},
   "source": [
    "Call them from within the markdown document."
   ]
  },
  {
   "cell_type": "code",
   "execution_count": 7,
   "metadata": {},
   "outputs": [],
   "source": [
    "example_markdown = '''\n",
    "{# embed the pdf as a png. This one is on the web. #}\n",
    "![]({{svg_to_png(\"https://storage.googleapis.com/public_data_09324832787/static_factory_methods.svg\", dpi=150)}})\n",
    "\n",
    "{# embed the pdf as a png #}\n",
    "![]({{pdf_to_png(\"../tests/test_data/drawing.pdf\", dpi=150)}})\n",
    "\n",
    "{# embed the pdf directly. This also works. #}\n",
    "![](../tests/test_data/drawing.pdf)\n",
    "'''.strip()\n",
    "\n",
    "doc = pymddoc.MarkdownDoc.from_str(example_markdown)\n",
    "\n",
    "with tempfile.TemporaryDirectory() as tmpdirname:\n",
    "    doc.render_to_pdf(f'{tmpdirname}/output.pdf')"
   ]
  }
 ],
 "metadata": {
  "kernelspec": {
   "display_name": "base",
   "language": "python",
   "name": "python3"
  },
  "language_info": {
   "codemirror_mode": {
    "name": "ipython",
    "version": 3
   },
   "file_extension": ".py",
   "mimetype": "text/x-python",
   "name": "python",
   "nbconvert_exporter": "python",
   "pygments_lexer": "ipython3",
   "version": "3.11.5"
  }
 },
 "nbformat": 4,
 "nbformat_minor": 2
}

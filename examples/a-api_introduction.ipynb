{
 "cells": [
  {
   "cell_type": "markdown",
   "metadata": {},
   "source": [
    "# API Introduction\n",
    "\n",
    "This page describes the API of the `PyMdDoc` package.\n",
    "\n",
    "The `MarkdownDoc` class maintains the main interface for creating documents. It manages a single markdown document which can be rendered and converted to another document type. It can be created from a string using `from_str()` or a file using `from_file()`."
   ]
  },
  {
   "cell_type": "code",
   "execution_count": 1,
   "metadata": {},
   "outputs": [],
   "source": [
    "import sys\n",
    "sys.path.append('..')\n",
    "import pymddoc"
   ]
  },
  {
   "cell_type": "markdown",
   "metadata": {},
   "source": [
    "I will use this functions to make html outputs more readable."
   ]
  },
  {
   "cell_type": "code",
   "execution_count": 2,
   "metadata": {},
   "outputs": [],
   "source": [
    "def print_formatted_html(html_string):\n",
    "    '''Print HTML that is formatted with indentation.'''\n",
    "    from bs4 import BeautifulSoup\n",
    "    soup = BeautifulSoup(html_string, 'html.parser')\n",
    "    clean_html = soup.prettify()\n",
    "    print(clean_html)"
   ]
  },
  {
   "cell_type": "markdown",
   "metadata": {},
   "source": [
    "### Ingest Markdown Documents\n",
    "\n",
    "The following example demonstrates how to create a simple markdown document."
   ]
  },
  {
   "cell_type": "code",
   "execution_count": 3,
   "metadata": {},
   "outputs": [
    {
     "name": "stdout",
     "output_type": "stream",
     "text": [
      "MarkdownDoc({'author': 'John Doe', 'date': '2021-01-01', 'title': 'Example Markdown'})\n"
     ]
    }
   ],
   "source": [
    "example_markdown = '''\n",
    "---\n",
    "title: Example Markdown\n",
    "author: John Doe\n",
    "date: 2021-01-01\n",
    "---\n",
    "\n",
    "{# this is a jinja comment #}\n",
    "\n",
    "# Header 1\n",
    "\n",
    "You can use italics and bold text as supported by pandoc.\n",
    "\n",
    "::: { #favorite .note font-size=\"1.5em\" }\n",
    "You can also create Div blocks with ids, attributes, and other attributes.\n",
    ":::\n",
    "\n",
    "You can also use code snippets:\n",
    "\n",
    "```python\n",
    "    def example_function():\n",
    "        return \"Hello, world!\"\n",
    "```.\n",
    "<br/>\n",
    "'''.strip()\n",
    "\n",
    "doc = pymddoc.MarkdownDoc.from_str(example_markdown)\n",
    "print(doc)"
   ]
  },
  {
   "cell_type": "markdown",
   "metadata": {},
   "source": [
    "You can extract the YAML header metadata from the document using the `extract_metadata()` method. This method returns a dictionary of the metadata from the document."
   ]
  },
  {
   "cell_type": "code",
   "execution_count": 4,
   "metadata": {},
   "outputs": [
    {
     "data": {
      "text/plain": [
       "{'author': 'John Doe', 'date': '2021-01-01', 'title': 'Example Markdown'}"
      ]
     },
     "execution_count": 4,
     "metadata": {},
     "output_type": "execute_result"
    }
   ],
   "source": [
    "doc.extract_metadata()"
   ]
  },
  {
   "cell_type": "markdown",
   "metadata": {},
   "source": [
    "### Rendering Documents\n",
    "\n",
    "There are several different methods for rendering markdown documents to other document types.\n",
    "\n",
    "You can use the method `render_to_string()` to convert the document to any text-based format."
   ]
  },
  {
   "cell_type": "code",
   "execution_count": 5,
   "metadata": {},
   "outputs": [
    {
     "name": "stdout",
     "output_type": "stream",
     "text": [
      "<h1 id=\"header-1\">\n",
      " Header 1\n",
      "</h1>\n",
      "<p>\n",
      " You can use italics and bold text as supported by pandoc.\n",
      "</p>\n",
      "<div class=\"note\" data-font-size=\"1.5em\" id=\"favorite\">\n",
      " <p>\n",
      "  You can also create Div blocks with ids, attributes, and other\n",
      "attributes.\n",
      " </p>\n",
      "</div>\n",
      "<p>\n",
      " You can also use code snippets:\n",
      "</p>\n",
      "<p>\n",
      " <code>\n",
      "  python     def example_function():         return \"Hello, world!\"\n",
      " </code>\n",
      " .\n",
      " <br/>\n",
      "</p>\n",
      "\n"
     ]
    }
   ],
   "source": [
    "html = doc.render_to_string('html')\n",
    "print_formatted_html(html)"
   ]
  },
  {
   "cell_type": "markdown",
   "metadata": {},
   "source": [
    "To convert to pdf or docx formats, you will want to write to a file. In this case, you can use the `render_to_file()` method. It can automatically infer the file type using the file extension."
   ]
  },
  {
   "cell_type": "code",
   "execution_count": 6,
   "metadata": {},
   "outputs": [],
   "source": [
    "import tempfile\n",
    "with tempfile.TemporaryDirectory() as tempdir:\n",
    "\n",
    "    doc.render_to_file(f'{tempdir}/test.pdf')"
   ]
  },
  {
   "cell_type": "markdown",
   "metadata": {},
   "source": [
    "There are also some type-specific methods for rendering html, pdf, or docx files."
   ]
  },
  {
   "cell_type": "code",
   "execution_count": 7,
   "metadata": {},
   "outputs": [
    {
     "name": "stdout",
     "output_type": "stream",
     "text": [
      "<h1 id=\"header-1\">\n",
      " Header 1\n",
      "</h1>\n",
      "<p>\n",
      " You can use italics and bold text as supported by pandoc.\n",
      "</p>\n",
      "<div class=\"note\" data-font-size=\"1.5em\" id=\"favorite\">\n",
      " <p>\n",
      "  You can also create Div blocks with ids, attributes, and other\n",
      "attributes.\n",
      " </p>\n",
      "</div>\n",
      "<p>\n",
      " You can also use code snippets:\n",
      "</p>\n",
      "<p>\n",
      " <code>\n",
      "  python     def example_function():         return \"Hello, world!\"\n",
      " </code>\n",
      " .\n",
      " <br/>\n",
      "</p>\n",
      "\n"
     ]
    }
   ],
   "source": [
    "with tempfile.TemporaryDirectory() as tempdir:\n",
    "    \n",
    "    doc.render_to_pdf(f'{tempdir}/test.pdf')\n",
    "    doc.render_to_docx(f'{tempdir}/test.docx')\n",
    "    html = doc.render_html()\n",
    "print_formatted_html(html)"
   ]
  },
  {
   "cell_type": "markdown",
   "metadata": {},
   "source": [
    "### Jinja Templating Features\n",
    "You can pass variables to be inserted in the markdown document using Jinja templating with the `vars` argument to most render functions."
   ]
  },
  {
   "cell_type": "code",
   "execution_count": 8,
   "metadata": {},
   "outputs": [
    {
     "name": "stdout",
     "output_type": "stream",
     "text": [
      "<p>\n",
      " Hello, world!\n",
      "</p>\n",
      "\n"
     ]
    }
   ],
   "source": [
    "d = pymddoc.MarkdownDoc.from_str('{{ text_here }}')\n",
    "html = d.render_html(vars={'text_here': 'Hello, world!'})\n",
    "print_formatted_html(html)"
   ]
  },
  {
   "cell_type": "markdown",
   "metadata": {},
   "source": [
    "While Pandoc supports a number of output formats, it is necessarily inconsistent in how it renders various elements of the document. Using the `OUTPUT_FORMAT` constant available through `PyMdDoc`, you can conditionally render elements based on the output format. "
   ]
  },
  {
   "cell_type": "code",
   "execution_count": 9,
   "metadata": {},
   "outputs": [
    {
     "name": "stdout",
     "output_type": "stream",
     "text": [
      "<p>This is an HTML document.</p>\n",
      "\n"
     ]
    }
   ],
   "source": [
    "example_markdown = '''\n",
    "{% if OUTPUT_FORMAT == 'html' %}\n",
    "This is an HTML document.\n",
    "{% else %}\n",
    "This is not an HTML document.\n",
    "{% endif %}\n",
    "'''.strip()\n",
    "\n",
    "doc = pymddoc.MarkdownDoc.from_str(example_markdown)\n",
    "print(doc.render_html())"
   ]
  },
  {
   "cell_type": "markdown",
   "metadata": {},
   "source": [
    "### Pandoc Arguments\n",
    "You can use the `pandoc_args` argument to pass additional arguments to the pandoc command from any render function. This can be useful for specifying the output format or other options.\n",
    "\n",
    "Pass arguments using the `PandocArgs` dataclass. The docstring of that class contains a list of all the available arguments."
   ]
  },
  {
   "cell_type": "code",
   "execution_count": 10,
   "metadata": {},
   "outputs": [
    {
     "name": "stdout",
     "output_type": "stream",
     "text": [
      "Dataclass that contains arguments for pandoc conversion.\n",
      "        See this page for more about pandoc markdown:\n",
      "            https://quarto.org/docs/authoring/markdown-basics.html\n",
      "    Args:\n",
      "        standalone: adds the --standalone flag to the pandoc command.\n",
      "        embed_resources: adds the --embed-resources flag to the pandoc command.\n",
      "        toc: adds the --toc flag to the pandoc command.\n",
      "        citeproc_bibliography: adds the --citeproc and --bibliography {fname}\n",
      "            arguments to the pandoc command.\n",
      "        template: adds the --template={fname} argument to the pandoc command.\n",
      "        extra_args: additional arguments to add to the pandoc command.\n",
      "        **pandoc_kwargs: passed to pandoc.\n",
      "    \n"
     ]
    }
   ],
   "source": [
    "print(pymddoc.PandocArgs.__doc__)"
   ]
  },
  {
   "cell_type": "markdown",
   "metadata": {},
   "source": [
    "And you can pass it as an argument to any render function."
   ]
  },
  {
   "cell_type": "code",
   "execution_count": 11,
   "metadata": {},
   "outputs": [],
   "source": [
    "with tempfile.TemporaryDirectory() as tempdir:\n",
    "\n",
    "    doc.render_to_pdf(\n",
    "        output_path=f'{tempdir}/test.pdf',\n",
    "        pandoc_args = pymddoc.PandocArgs(\n",
    "            toc = True,\n",
    "            embed_resources=True,\n",
    "            extra_args=['--mathjax'],\n",
    "        )\n",
    "    )"
   ]
  },
  {
   "cell_type": "markdown",
   "metadata": {},
   "source": [
    "See other pages for examples of using custom functions within the markdown document."
   ]
  }
 ],
 "metadata": {
  "kernelspec": {
   "display_name": "base",
   "language": "python",
   "name": "python3"
  },
  "language_info": {
   "codemirror_mode": {
    "name": "ipython",
    "version": 3
   },
   "file_extension": ".py",
   "mimetype": "text/x-python",
   "name": "python",
   "nbconvert_exporter": "python",
   "pygments_lexer": "ipython3",
   "version": "3.11.5"
  }
 },
 "nbformat": 4,
 "nbformat_minor": 2
}

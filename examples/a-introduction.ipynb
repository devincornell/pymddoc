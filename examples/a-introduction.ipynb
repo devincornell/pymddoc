{
 "cells": [
  {
   "cell_type": "markdown",
   "metadata": {},
   "source": [
    "# Introduction\n",
    "\n",
    "`pymddoc`\\* is a python package for creating markdown documents with embedded code snippets. The idea is that you create a new document object and sequentially add components of the document as desired. This introduction will walk through the basic steps for creating a document.\n",
    "\n",
    "Steps for creating a document:\n",
    "\n",
    "1. create a .py script that will contain code to generate the document\n",
    "2. create a `DocMaker` object by calling `Document` with desired templates and metadata\n",
    "3. add markdown using the `.markdown()` method\n",
    "4. add code snippets using the context manager returned by the `.snippet()` method\n",
    "5. render the document to markdown or html"
   ]
  },
  {
   "cell_type": "code",
   "execution_count": 1,
   "metadata": {},
   "outputs": [],
   "source": [
    "import sys\n",
    "sys.path.append('..')\n",
    "import pymddoc\n",
    "import inspect"
   ]
  },
  {
   "cell_type": "markdown",
   "metadata": {},
   "source": [
    "### Open a New Document\n",
    "\n",
    "The first step in creating a document is to call the `Document` function, which returns a `DocMaker` object. This object will be used to create the document. This function takes a number of parameters for metadata, templates, and other configurations. See the API documentation for more details."
   ]
  },
  {
   "cell_type": "code",
   "execution_count": 2,
   "metadata": {},
   "outputs": [],
   "source": [
    "doc = pymddoc.Document(\n",
    "    title = 'My Document',\n",
    "    date = 'Nov 20, 2023',\n",
    "    snippet_template=pymddoc.templates.default(\n",
    "        stdout_header='###### output:'\n",
    "    ),\n",
    ")"
   ]
  },
  {
   "cell_type": "markdown",
   "metadata": {},
   "source": [
    "See the documentation for the `Document` function for more information about optional metadata that can be passed, but you can see that here we have only used the title and date parameters. Note that this information will be exported to the output markdown text as YAML metadata."
   ]
  },
  {
   "cell_type": "code",
   "execution_count": 3,
   "metadata": {},
   "outputs": [
    {
     "data": {
      "text/plain": [
       "Metadata(title='My Document', subtitle=None, author=None, date=datetime.datetime(2023, 11, 20, 0, 0), other_metadata={})"
      ]
     },
     "execution_count": 3,
     "metadata": {},
     "output_type": "execute_result"
    }
   ],
   "source": [
    "doc.metadata"
   ]
  },
  {
   "cell_type": "markdown",
   "metadata": {},
   "source": [
    "### Markdown\n",
    "\n",
    "We can insert markdown using the `.markdown()` method. Simply pass a string to the method and it will be inserted into the document directly. \n",
    "\n",
    "Note that this is standard markdown, so you may use any features supported by your markdown compiler (pandoc if you use the built-in html renderer).\n",
    "\n",
    "Here I will define a new function and print the result."
   ]
  },
  {
   "cell_type": "code",
   "execution_count": null,
   "metadata": {},
   "outputs": [],
   "source": [
    "doc.markdown('''\n",
    "    # example header\n",
    "\n",
    "    + item 1\n",
    "    + item 2\n",
    "\n",
    "    | col 1 | col 2 |\n",
    "    |-------|-------|\n",
    "    | a     | b     |\n",
    "    | c     | d     |\n",
    "''')"
   ]
  },
  {
   "cell_type": "markdown",
   "metadata": {},
   "source": [
    "### Code Snippets\n",
    "\n",
    "Create code snippets using the `.snippet()` method. When executed, it returns a context manager that captures the source code and stdout as a markdown code block (denoted by \"```\").\n",
    "\n",
    "Create the code snippet like the following:"
   ]
  },
  {
   "cell_type": "code",
   "execution_count": 4,
   "metadata": {},
   "outputs": [
    {
     "name": "stdout",
     "output_type": "stream",
     "text": [
      "3\n"
     ]
    }
   ],
   "source": [
    "with doc.snippet(inspect.currentframe(), print_stdout=True):\n",
    "    def mytestfunc(a, b):\n",
    "        return a + b\n",
    "    print(mytestfunc(1, 2))"
   ]
  },
  {
   "cell_type": "code",
   "execution_count": null,
   "metadata": {},
   "outputs": [],
   "source": []
  },
  {
   "cell_type": "markdown",
   "metadata": {},
   "source": [
    "### Rendering the Document\n",
    "\n",
    "The document object now contains all the information needed to construct the markdown, including metadata, source code, and stdout of the code snippets. Use the `render_markdown()` method to render the document to markdown."
   ]
  },
  {
   "cell_type": "markdown",
   "metadata": {},
   "source": []
  },
  {
   "cell_type": "code",
   "execution_count": 6,
   "metadata": {},
   "outputs": [
    {
     "name": "stdout",
     "output_type": "stream",
     "text": [
      "---\n",
      "title: My Document\n",
      "date: 2023-11-20 00:00:00\n",
      "---\n",
      "\n",
      "```python\n",
      "    COULD NOT FIND SOURCE\n",
      "```\n",
      "\n",
      "\n",
      "\n",
      "```\n",
      "    >> 3\n",
      "```\n",
      "\n",
      "\n",
      "\n"
     ]
    }
   ],
   "source": [
    "print(doc.render_markdown())"
   ]
  },
  {
   "cell_type": "code",
   "execution_count": null,
   "metadata": {},
   "outputs": [],
   "source": []
  }
 ],
 "metadata": {
  "kernelspec": {
   "display_name": "Python 3 (ipykernel)",
   "language": "python",
   "name": "python3"
  }
 },
 "nbformat": 4,
 "nbformat_minor": 2
}
